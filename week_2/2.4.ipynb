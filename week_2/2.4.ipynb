{
 "cells": [
  {
   "cell_type": "code",
   "execution_count": 38,
   "metadata": {},
   "outputs": [],
   "source": [
    "import os\n",
    "import pickle\n",
    "import pandas as pd\n",
    "import seaborn as sns\n",
    "import matplotlib.pyplot as plt\n",
    "\n",
    "from sklearn.feature_extraction import DictVectorizer\n",
    "from sklearn.metrics import mean_squared_error\n",
    "from sklearn.linear_model import LinearRegression, Lasso, Ridge\n",
    "\n",
    "import xgboost as xgb\n",
    "\n",
    "import mlflow"
   ]
  },
  {
   "cell_type": "code",
   "execution_count": 39,
   "metadata": {},
   "outputs": [
    {
     "name": "stderr",
     "output_type": "stream",
     "text": [
      "2023/06/26 13:11:13 INFO mlflow.tracking.fluent: Experiment with name 'nyc-taxi-experiment' does not exist. Creating a new experiment.\n"
     ]
    },
    {
     "data": {
      "text/plain": [
       "<Experiment: artifact_location='/Users/lap02105/workking_space/learn_mlops/week_2/mlruns/1', creation_time=1687759873120, experiment_id='1', last_update_time=1687759873120, lifecycle_stage='active', name='nyc-taxi-experiment', tags={}>"
      ]
     },
     "execution_count": 39,
     "metadata": {},
     "output_type": "execute_result"
    }
   ],
   "source": [
    "mlflow.set_tracking_uri(\"sqlite:///mlflow.db\")\n",
    "mlflow.set_experiment(\"nyc-taxi-experiment\")"
   ]
  },
  {
   "cell_type": "code",
   "execution_count": 40,
   "metadata": {},
   "outputs": [],
   "source": [
    "def read_dataframe(filename):\n",
    "    df = pd.read_parquet(filename)\n",
    "    df.lpep_pickup_datetime = pd.to_datetime(df.lpep_pickup_datetime)\n",
    "    df.lpep_dropoff_datetime = pd.to_datetime(df.lpep_dropoff_datetime)\n",
    "\n",
    "    df[\"duration\"] = df.lpep_dropoff_datetime - df.lpep_pickup_datetime\n",
    "    df.duration = df.duration.apply(lambda td: td.total_seconds()/60)\n",
    "\n",
    "    df = df[(df.duration >= 1) & (df.duration <= 60)]\n",
    "\n",
    "    categorical = ['PULocationID', 'DOLocationID']\n",
    "\n",
    "    df[categorical] = df[categorical].astype(str)\n",
    "    return df"
   ]
  },
  {
   "cell_type": "code",
   "execution_count": 57,
   "metadata": {},
   "outputs": [],
   "source": [
    "df_train = read_dataframe(\"../dataset/green_tripdata_2021-01.parquet\")\n",
    "df_val = read_dataframe(\"../dataset/green_tripdata_2021-02.parquet\")"
   ]
  },
  {
   "cell_type": "code",
   "execution_count": 58,
   "metadata": {},
   "outputs": [],
   "source": [
    "categorical = ['PULocationID', 'DOLocationID']\n",
    "numerical = ['trip_distance']\n",
    "\n",
    "dv = DictVectorizer()\n",
    "\n",
    "train_dict = df_train[categorical + numerical].to_dict(orient='records')\n",
    "x_train = dv.fit_transform(train_dict)\n",
    "\n",
    "val_dict = df_val[categorical + numerical].to_dict(orient='records')\n",
    "x_val = dv.transform(val_dict)\n",
    "\n",
    "\n",
    "target = 'duration'\n",
    "y_train = df_train[target].values\n",
    "y_val = df_val[target].values\n",
    "\n"
   ]
  },
  {
   "cell_type": "code",
   "execution_count": 59,
   "metadata": {},
   "outputs": [],
   "source": [
    "# with mlflow.start_run():\n",
    "#     mlflow.set_tag(\"developder\", \"cristian\")\n",
    "#     mlflow.log_param(\"train-data-path\", \"dataset/green_tripdata_2021-01.parquet\")\n",
    "#     mlflow.log_param(\"valid-data-path\", \"dataset/green_tripdata_2021-02.parquet\")\n",
    "    \n",
    "#     alpha = 0.001\n",
    "#     mlflow.log_param(\"alpha\", alpha)\n",
    "#     lr = Lasso(alpha)\n",
    "#     lr.fit(x_train, y_train)\n",
    "\n",
    "#     y_pred = lr.predict(x_val)\n",
    "\n",
    "#     rmse = mean_squared_error(y_pred, y_val, squared=False)\n",
    "#     mlflow.log_metric(\"rmse\", rmse)\n",
    "\n",
    "#     # mlflow.log_artifact(local_path=\"models\", artifact_path=\"models_pickle/\")\n",
    "#     mlflow.log_artifact(\"models/lin_reg.bin\", artifact_path=\"models_pickle\")"
   ]
  },
  {
   "cell_type": "code",
   "execution_count": 60,
   "metadata": {},
   "outputs": [],
   "source": [
    "mlflow.xgboost.autolog(disable=True)"
   ]
  },
  {
   "cell_type": "code",
   "execution_count": 61,
   "metadata": {},
   "outputs": [
    {
     "data": {
      "text/plain": [
       "False"
      ]
     },
     "execution_count": 61,
     "metadata": {},
     "output_type": "execute_result"
    }
   ],
   "source": [
    "os.path.isdir('models/preprocessor.b')"
   ]
  },
  {
   "cell_type": "code",
   "execution_count": 62,
   "metadata": {},
   "outputs": [
    {
     "name": "stdout",
     "output_type": "stream",
     "text": [
      "[13:34:29] WARNING: /Users/runner/work/xgboost/xgboost/python-package/build/temp.macosx-10.9-x86_64-cpython-38/xgboost/src/objective/regression_obj.cu:213: reg:linear is now deprecated in favor of reg:squarederror.\n",
      "[13:34:29] WARNING: /Users/runner/work/xgboost/xgboost/python-package/build/temp.macosx-10.9-x86_64-cpython-38/xgboost/src/learner.cc:767: \n",
      "Parameters: { \"req_alpha\" } are not used.\n",
      "\n",
      "[0]\tvalidation-rmse:15.03743\n",
      "[1]\tvalidation-rmse:11.33908\n",
      "[2]\tvalidation-rmse:9.21406\n",
      "[3]\tvalidation-rmse:8.04368\n",
      "[4]\tvalidation-rmse:7.41411\n",
      "[5]\tvalidation-rmse:7.07467\n",
      "[6]\tvalidation-rmse:6.88357\n",
      "[7]\tvalidation-rmse:6.77051\n",
      "[8]\tvalidation-rmse:6.69400\n",
      "[9]\tvalidation-rmse:6.64812\n"
     ]
    }
   ],
   "source": [
    "with mlflow.start_run():\n",
    "    mlflow.set_tag(\"developder\", \"levan\")\n",
    "    mlflow.set_tag(\"model\", \"xgboost\")\n",
    "    mlflow.log_param(\"train-data-path\", \"dataset/green_tripdata_2021-01.parquet\")\n",
    "    mlflow.log_param(\"valid-data-path\", \"dataset/green_tripdata_2021-02.parquet\")\n",
    "    \n",
    "    best_params = {\n",
    "        \"learning_rate\": 0.35380824252760945,\n",
    "        \"max_depth\": 5,\n",
    "        \"min_child_weight\": 1.9928832709725457,\n",
    "        \"objective\": 'reg:linear',\n",
    "        \"reg_lambda\": 0.2652451180565781,\n",
    "        \"req_alpha\": 0.04401206822642796,\n",
    "        \"seed\":\t42,\n",
    "    }\n",
    "\n",
    "    x_train = xgb.DMatrix(x_train, label=y_train)\n",
    "    x_valid = xgb.DMatrix(x_val, label=y_val)\n",
    "\n",
    "    booster = xgb.train(\n",
    "        params=best_params,\n",
    "        dtrain=x_train,\n",
    "        num_boost_round=10,\n",
    "        evals=[(x_valid, \"validation\")],\n",
    "        early_stopping_rounds=50\n",
    "    )\n",
    "    \n",
    "    mlflow.log_params(best_params)\n",
    "    y_pred = booster.predict(x_valid)\n",
    "    rmse = mean_squared_error(y_val, y_pred, squared=False)\n",
    "    mlflow.log_metric(\"rmse\", rmse)\n",
    "\n",
    "    # mlflow.log_artifact(local_path=\"models\", artifact_path=\"models_pickle/\")\n",
    "    # mlflow.log_artifact(\"models/lin_reg.bin\", artifact_path=\"models_pickle\")\n",
    "    with open(\"models/preprocessor.b\", \"wb\") as file_out:\n",
    "        pickle.dump(dv, file_out)\n",
    "        \n",
    "    mlflow.log_artifact('models/preprocessor.b', artifact_path=\"preprocessor\")\n",
    "    # mlflow.log_artifact('preprocessor.b')\n",
    "\n",
    "    mlflow.xgboost.log_model(booster, artifact_path=\"models_mlfow\")"
   ]
  },
  {
   "cell_type": "code",
   "execution_count": 54,
   "metadata": {},
   "outputs": [
    {
     "ename": "MlflowException",
     "evalue": "Run with id=e7854b8694ef49fc8f9bc032ff1744b4 not found",
     "output_type": "error",
     "traceback": [
      "\u001b[0;31m---------------------------------------------------------------------------\u001b[0m",
      "\u001b[0;31mMlflowException\u001b[0m                           Traceback (most recent call last)",
      "Cell \u001b[0;32mIn[54], line 6\u001b[0m\n\u001b[1;32m      2\u001b[0m logged_model \u001b[38;5;241m=\u001b[39m \u001b[38;5;124m'\u001b[39m\u001b[38;5;124mruns:/e7854b8694ef49fc8f9bc032ff1744b4/models_mlfow\u001b[39m\u001b[38;5;124m'\u001b[39m\n\u001b[1;32m      4\u001b[0m \u001b[38;5;66;03m# Load model as a PyFuncModel.\u001b[39;00m\n\u001b[1;32m      5\u001b[0m \u001b[38;5;66;03m# loaded_model = mlflow.pyfunc.load_model(logged_model)\u001b[39;00m\n\u001b[0;32m----> 6\u001b[0m xgboost_model \u001b[38;5;241m=\u001b[39m \u001b[43mmlflow\u001b[49m\u001b[38;5;241;43m.\u001b[39;49m\u001b[43mxgboost\u001b[49m\u001b[38;5;241;43m.\u001b[39;49m\u001b[43mload_model\u001b[49m\u001b[43m(\u001b[49m\u001b[43mlogged_model\u001b[49m\u001b[43m)\u001b[49m\n\u001b[1;32m      7\u001b[0m \u001b[38;5;66;03m# Predict on a Pandas DataFrame.\u001b[39;00m\n\u001b[1;32m      8\u001b[0m \u001b[38;5;66;03m# import pandas as pd\u001b[39;00m\n\u001b[1;32m      9\u001b[0m \u001b[38;5;66;03m# loaded_model.predict(pd.DataFrame(df_train))\u001b[39;00m\n\u001b[1;32m     10\u001b[0m y_pred \u001b[38;5;241m=\u001b[39m booster\u001b[38;5;241m.\u001b[39mpredict(x_valid)\n",
      "File \u001b[0;32m~/opt/anaconda3/envs/learn_mlops/lib/python3.9/site-packages/mlflow/xgboost/__init__.py:367\u001b[0m, in \u001b[0;36mload_model\u001b[0;34m(model_uri, dst_path)\u001b[0m\n\u001b[1;32m    346\u001b[0m \u001b[39mdef\u001b[39;00m \u001b[39mload_model\u001b[39m(model_uri, dst_path\u001b[39m=\u001b[39m\u001b[39mNone\u001b[39;00m):\n\u001b[1;32m    347\u001b[0m \u001b[39m    \u001b[39m\u001b[39m\"\"\"\u001b[39;00m\n\u001b[1;32m    348\u001b[0m \u001b[39m    Load an XGBoost model from a local file or a run.\u001b[39;00m\n\u001b[1;32m    349\u001b[0m \n\u001b[0;32m   (...)\u001b[0m\n\u001b[1;32m    365\u001b[0m \u001b[39m             models, depending on the saved model class specification.\u001b[39;00m\n\u001b[1;32m    366\u001b[0m \u001b[39m    \"\"\"\u001b[39;00m\n\u001b[0;32m--> 367\u001b[0m     local_model_path \u001b[39m=\u001b[39m _download_artifact_from_uri(artifact_uri\u001b[39m=\u001b[39;49mmodel_uri, output_path\u001b[39m=\u001b[39;49mdst_path)\n\u001b[1;32m    368\u001b[0m     flavor_conf \u001b[39m=\u001b[39m _get_flavor_configuration(local_model_path, FLAVOR_NAME)\n\u001b[1;32m    369\u001b[0m     _add_code_from_conf_to_system_path(local_model_path, flavor_conf)\n",
      "File \u001b[0;32m~/opt/anaconda3/envs/learn_mlops/lib/python3.9/site-packages/mlflow/tracking/artifact_utils.py:100\u001b[0m, in \u001b[0;36m_download_artifact_from_uri\u001b[0;34m(artifact_uri, output_path)\u001b[0m\n\u001b[1;32m     94\u001b[0m \u001b[39m\u001b[39m\u001b[39m\"\"\"\u001b[39;00m\n\u001b[1;32m     95\u001b[0m \u001b[39m:param artifact_uri: The *absolute* URI of the artifact to download.\u001b[39;00m\n\u001b[1;32m     96\u001b[0m \u001b[39m:param output_path: The local filesystem path to which to download the artifact. If unspecified,\u001b[39;00m\n\u001b[1;32m     97\u001b[0m \u001b[39m                    a local output path will be created.\u001b[39;00m\n\u001b[1;32m     98\u001b[0m \u001b[39m\"\"\"\u001b[39;00m\n\u001b[1;32m     99\u001b[0m root_uri, artifact_path \u001b[39m=\u001b[39m _get_root_uri_and_artifact_path(artifact_uri)\n\u001b[0;32m--> 100\u001b[0m \u001b[39mreturn\u001b[39;00m get_artifact_repository(artifact_uri\u001b[39m=\u001b[39;49mroot_uri)\u001b[39m.\u001b[39mdownload_artifacts(\n\u001b[1;32m    101\u001b[0m     artifact_path\u001b[39m=\u001b[39martifact_path, dst_path\u001b[39m=\u001b[39moutput_path\n\u001b[1;32m    102\u001b[0m )\n",
      "File \u001b[0;32m~/opt/anaconda3/envs/learn_mlops/lib/python3.9/site-packages/mlflow/store/artifact/artifact_repository_registry.py:114\u001b[0m, in \u001b[0;36mget_artifact_repository\u001b[0;34m(artifact_uri)\u001b[0m\n\u001b[1;32m    104\u001b[0m \u001b[39mdef\u001b[39;00m \u001b[39mget_artifact_repository\u001b[39m(artifact_uri):\n\u001b[1;32m    105\u001b[0m \u001b[39m    \u001b[39m\u001b[39m\"\"\"Get an artifact repository from the registry based on the scheme of artifact_uri\u001b[39;00m\n\u001b[1;32m    106\u001b[0m \n\u001b[1;32m    107\u001b[0m \u001b[39m    :param artifact_uri: The artifact store URI. This URI is used to select which artifact\u001b[39;00m\n\u001b[0;32m   (...)\u001b[0m\n\u001b[1;32m    112\u001b[0m \u001b[39m             requirements.\u001b[39;00m\n\u001b[1;32m    113\u001b[0m \u001b[39m    \"\"\"\u001b[39;00m\n\u001b[0;32m--> 114\u001b[0m     \u001b[39mreturn\u001b[39;00m _artifact_repository_registry\u001b[39m.\u001b[39;49mget_artifact_repository(artifact_uri)\n",
      "File \u001b[0;32m~/opt/anaconda3/envs/learn_mlops/lib/python3.9/site-packages/mlflow/store/artifact/artifact_repository_registry.py:72\u001b[0m, in \u001b[0;36mArtifactRepositoryRegistry.get_artifact_repository\u001b[0;34m(self, artifact_uri)\u001b[0m\n\u001b[1;32m     65\u001b[0m \u001b[39mif\u001b[39;00m repository \u001b[39mis\u001b[39;00m \u001b[39mNone\u001b[39;00m:\n\u001b[1;32m     66\u001b[0m     \u001b[39mraise\u001b[39;00m MlflowException(\n\u001b[1;32m     67\u001b[0m         \u001b[39m\"\u001b[39m\u001b[39mCould not find a registered artifact repository for: \u001b[39m\u001b[39m{}\u001b[39;00m\u001b[39m. \u001b[39m\u001b[39m\"\u001b[39m\n\u001b[1;32m     68\u001b[0m         \u001b[39m\"\u001b[39m\u001b[39mCurrently registered schemes are: \u001b[39m\u001b[39m{}\u001b[39;00m\u001b[39m\"\u001b[39m\u001b[39m.\u001b[39mformat(\n\u001b[1;32m     69\u001b[0m             artifact_uri, \u001b[39mlist\u001b[39m(\u001b[39mself\u001b[39m\u001b[39m.\u001b[39m_registry\u001b[39m.\u001b[39mkeys())\n\u001b[1;32m     70\u001b[0m         )\n\u001b[1;32m     71\u001b[0m     )\n\u001b[0;32m---> 72\u001b[0m \u001b[39mreturn\u001b[39;00m repository(artifact_uri)\n",
      "File \u001b[0;32m~/opt/anaconda3/envs/learn_mlops/lib/python3.9/site-packages/mlflow/store/artifact/runs_artifact_repo.py:26\u001b[0m, in \u001b[0;36mRunsArtifactRepository.__init__\u001b[0;34m(self, artifact_uri)\u001b[0m\n\u001b[1;32m     23\u001b[0m \u001b[39mfrom\u001b[39;00m \u001b[39mmlflow\u001b[39;00m\u001b[39m.\u001b[39;00m\u001b[39mstore\u001b[39;00m\u001b[39m.\u001b[39;00m\u001b[39martifact\u001b[39;00m\u001b[39m.\u001b[39;00m\u001b[39martifact_repository_registry\u001b[39;00m \u001b[39mimport\u001b[39;00m get_artifact_repository\n\u001b[1;32m     25\u001b[0m \u001b[39msuper\u001b[39m()\u001b[39m.\u001b[39m\u001b[39m__init__\u001b[39m(artifact_uri)\n\u001b[0;32m---> 26\u001b[0m uri \u001b[39m=\u001b[39m RunsArtifactRepository\u001b[39m.\u001b[39;49mget_underlying_uri(artifact_uri)\n\u001b[1;32m     27\u001b[0m \u001b[39mself\u001b[39m\u001b[39m.\u001b[39mrepo \u001b[39m=\u001b[39m get_artifact_repository(uri)\n",
      "File \u001b[0;32m~/opt/anaconda3/envs/learn_mlops/lib/python3.9/site-packages/mlflow/store/artifact/runs_artifact_repo.py:39\u001b[0m, in \u001b[0;36mRunsArtifactRepository.get_underlying_uri\u001b[0;34m(runs_uri)\u001b[0m\n\u001b[1;32m     37\u001b[0m (run_id, artifact_path) \u001b[39m=\u001b[39m RunsArtifactRepository\u001b[39m.\u001b[39mparse_runs_uri(runs_uri)\n\u001b[1;32m     38\u001b[0m tracking_uri \u001b[39m=\u001b[39m get_databricks_profile_uri_from_artifact_uri(runs_uri)\n\u001b[0;32m---> 39\u001b[0m uri \u001b[39m=\u001b[39m get_artifact_uri(run_id, artifact_path, tracking_uri)\n\u001b[1;32m     40\u001b[0m \u001b[39massert\u001b[39;00m \u001b[39mnot\u001b[39;00m RunsArtifactRepository\u001b[39m.\u001b[39mis_runs_uri(uri)  \u001b[39m# avoid an infinite loop\u001b[39;00m\n\u001b[1;32m     41\u001b[0m \u001b[39mreturn\u001b[39;00m add_databricks_profile_info_to_artifact_uri(uri, tracking_uri)\n",
      "File \u001b[0;32m~/opt/anaconda3/envs/learn_mlops/lib/python3.9/site-packages/mlflow/tracking/artifact_utils.py:47\u001b[0m, in \u001b[0;36mget_artifact_uri\u001b[0;34m(run_id, artifact_path, tracking_uri)\u001b[0m\n\u001b[1;32m     41\u001b[0m     \u001b[39mraise\u001b[39;00m MlflowException(\n\u001b[1;32m     42\u001b[0m         message\u001b[39m=\u001b[39m\u001b[39m\"\u001b[39m\u001b[39mA run_id must be specified in order to obtain an artifact uri!\u001b[39m\u001b[39m\"\u001b[39m,\n\u001b[1;32m     43\u001b[0m         error_code\u001b[39m=\u001b[39mINVALID_PARAMETER_VALUE,\n\u001b[1;32m     44\u001b[0m     )\n\u001b[1;32m     46\u001b[0m store \u001b[39m=\u001b[39m _get_store(tracking_uri)\n\u001b[0;32m---> 47\u001b[0m run \u001b[39m=\u001b[39m store\u001b[39m.\u001b[39;49mget_run(run_id)\n\u001b[1;32m     48\u001b[0m \u001b[39m# Maybe move this method to RunsArtifactRepository so the circular dependency is clearer.\u001b[39;00m\n\u001b[1;32m     49\u001b[0m \u001b[39massert\u001b[39;00m urllib\u001b[39m.\u001b[39mparse\u001b[39m.\u001b[39murlparse(run\u001b[39m.\u001b[39minfo\u001b[39m.\u001b[39martifact_uri)\u001b[39m.\u001b[39mscheme \u001b[39m!=\u001b[39m \u001b[39m\"\u001b[39m\u001b[39mruns\u001b[39m\u001b[39m\"\u001b[39m  \u001b[39m# avoid an infinite loop\u001b[39;00m\n",
      "File \u001b[0;32m~/opt/anaconda3/envs/learn_mlops/lib/python3.9/site-packages/mlflow/store/tracking/sqlalchemy_store.py:632\u001b[0m, in \u001b[0;36mSqlAlchemyStore.get_run\u001b[0;34m(self, run_id)\u001b[0m\n\u001b[1;32m    626\u001b[0m \u001b[39mdef\u001b[39;00m \u001b[39mget_run\u001b[39m(\u001b[39mself\u001b[39m, run_id):\n\u001b[1;32m    627\u001b[0m     \u001b[39mwith\u001b[39;00m \u001b[39mself\u001b[39m\u001b[39m.\u001b[39mManagedSessionMaker() \u001b[39mas\u001b[39;00m session:\n\u001b[1;32m    628\u001b[0m         \u001b[39m# Load the run with the specified id and eagerly load its summary metrics, params, and\u001b[39;00m\n\u001b[1;32m    629\u001b[0m         \u001b[39m# tags. These attributes are referenced during the invocation of\u001b[39;00m\n\u001b[1;32m    630\u001b[0m         \u001b[39m# ``run.to_mlflow_entity()``, so eager loading helps avoid additional database queries\u001b[39;00m\n\u001b[1;32m    631\u001b[0m         \u001b[39m# that are otherwise executed at attribute access time under a lazy loading model.\u001b[39;00m\n\u001b[0;32m--> 632\u001b[0m         run \u001b[39m=\u001b[39m \u001b[39mself\u001b[39;49m\u001b[39m.\u001b[39;49m_get_run(run_uuid\u001b[39m=\u001b[39;49mrun_id, session\u001b[39m=\u001b[39;49msession, eager\u001b[39m=\u001b[39;49m\u001b[39mTrue\u001b[39;49;00m)\n\u001b[1;32m    633\u001b[0m         mlflow_run \u001b[39m=\u001b[39m run\u001b[39m.\u001b[39mto_mlflow_entity()\n\u001b[1;32m    634\u001b[0m         \u001b[39m# Get the run inputs and add to the run\u001b[39;00m\n",
      "File \u001b[0;32m~/opt/anaconda3/envs/learn_mlops/lib/python3.9/site-packages/mlflow/store/tracking/sqlalchemy_store.py:519\u001b[0m, in \u001b[0;36mSqlAlchemyStore._get_run\u001b[0;34m(self, session, run_uuid, eager)\u001b[0m\n\u001b[1;32m    514\u001b[0m runs \u001b[39m=\u001b[39m (\n\u001b[1;32m    515\u001b[0m     session\u001b[39m.\u001b[39mquery(SqlRun)\u001b[39m.\u001b[39moptions(\u001b[39m*\u001b[39mquery_options)\u001b[39m.\u001b[39mfilter(SqlRun\u001b[39m.\u001b[39mrun_uuid \u001b[39m==\u001b[39m run_uuid)\u001b[39m.\u001b[39mall()\n\u001b[1;32m    516\u001b[0m )\n\u001b[1;32m    518\u001b[0m \u001b[39mif\u001b[39;00m \u001b[39mlen\u001b[39m(runs) \u001b[39m==\u001b[39m \u001b[39m0\u001b[39m:\n\u001b[0;32m--> 519\u001b[0m     \u001b[39mraise\u001b[39;00m MlflowException(\u001b[39mf\u001b[39m\u001b[39m\"\u001b[39m\u001b[39mRun with id=\u001b[39m\u001b[39m{\u001b[39;00mrun_uuid\u001b[39m}\u001b[39;00m\u001b[39m not found\u001b[39m\u001b[39m\"\u001b[39m, RESOURCE_DOES_NOT_EXIST)\n\u001b[1;32m    520\u001b[0m \u001b[39mif\u001b[39;00m \u001b[39mlen\u001b[39m(runs) \u001b[39m>\u001b[39m \u001b[39m1\u001b[39m:\n\u001b[1;32m    521\u001b[0m     \u001b[39mraise\u001b[39;00m MlflowException(\n\u001b[1;32m    522\u001b[0m         \u001b[39m\"\u001b[39m\u001b[39mExpected only 1 run with id=\u001b[39m\u001b[39m{}\u001b[39;00m\u001b[39m. Found \u001b[39m\u001b[39m{}\u001b[39;00m\u001b[39m.\u001b[39m\u001b[39m\"\u001b[39m\u001b[39m.\u001b[39mformat(run_uuid, \u001b[39mlen\u001b[39m(runs)),\n\u001b[1;32m    523\u001b[0m         INVALID_STATE,\n\u001b[1;32m    524\u001b[0m     )\n",
      "\u001b[0;31mMlflowException\u001b[0m: Run with id=e7854b8694ef49fc8f9bc032ff1744b4 not found"
     ]
    }
   ],
   "source": [
    "import mlflow\n",
    "logged_model = 'runs:/e7854b8694ef49fc8f9bc032ff1744b4/models_mlfow'\n",
    "\n",
    "# Load model as a PyFuncModel.\n",
    "# loaded_model = mlflow.pyfunc.load_model(logged_model)\n",
    "xgboost_model = mlflow.xgboost.load_model(logged_model)\n",
    "# Predict on a Pandas DataFrame.\n",
    "# import pandas as pd\n",
    "# loaded_model.predict(pd.DataFrame(df_train))\n",
    "y_pred = booster.predict(x_valid)"
   ]
  },
  {
   "cell_type": "code",
   "execution_count": 55,
   "metadata": {},
   "outputs": [
    {
     "name": "stderr",
     "output_type": "stream",
     "text": [
      "/var/folders/w6/r7qsj8rn7x7dbrq3sk_xkh580000gn/T/ipykernel_48032/1351390157.py:1: UserWarning: \n",
      "\n",
      "`distplot` is a deprecated function and will be removed in seaborn v0.14.0.\n",
      "\n",
      "Please adapt your code to use either `displot` (a figure-level function with\n",
      "similar flexibility) or `histplot` (an axes-level function for histograms).\n",
      "\n",
      "For a guide to updating your code to use the new functions, please see\n",
      "https://gist.github.com/mwaskom/de44147ed2974457ad6372750bbe5751\n",
      "\n",
      "  sns.distplot(y_pred, label='prediction')\n",
      "/var/folders/w6/r7qsj8rn7x7dbrq3sk_xkh580000gn/T/ipykernel_48032/1351390157.py:2: UserWarning: \n",
      "\n",
      "`distplot` is a deprecated function and will be removed in seaborn v0.14.0.\n",
      "\n",
      "Please adapt your code to use either `displot` (a figure-level function with\n",
      "similar flexibility) or `histplot` (an axes-level function for histograms).\n",
      "\n",
      "For a guide to updating your code to use the new functions, please see\n",
      "https://gist.github.com/mwaskom/de44147ed2974457ad6372750bbe5751\n",
      "\n",
      "  sns.distplot(y_train, label='actual')\n"
     ]
    },
    {
     "data": {
      "text/plain": [
       "<Axes: ylabel='Density'>"
      ]
     },
     "execution_count": 55,
     "metadata": {},
     "output_type": "execute_result"
    },
    {
     "data": {
      "image/png": "[encoded data removed]",
      "text/plain": [
       "<Figure size 640x480 with 1 Axes>"
      ]
     },
     "metadata": {},
     "output_type": "display_data"
    }
   ],
   "source": [
    "sns.distplot(y_pred, label='prediction')\n",
    "sns.distplot(y_train, label='actual')"
   ]
  },
  {
   "cell_type": "code",
   "execution_count": null,
   "metadata": {},
   "outputs": [],
   "source": []
  }
 ],
 "metadata": {
  "kernelspec": {
   "display_name": "Python 3.9.16 ('learn_mlops')",
   "language": "python",
   "name": "python3"
  },
  "language_info": {
   "codemirror_mode": {
    "name": "ipython",
    "version": 3
   },
   "file_extension": ".py",
   "mimetype": "text/x-python",
   "name": "python",
   "nbconvert_exporter": "python",
   "pygments_lexer": "ipython3",
   "version": "3.9.16"
  },
  "orig_nbformat": 4,
  "vscode": {
   "interpreter": {
    "hash": "936d1bc8a1b03f00d61850b13162e9353d2fd58e51e4221bb53cfffadbfe4519"
   }
  }
 },
 "nbformat": 4,
 "nbformat_minor": 2
}
